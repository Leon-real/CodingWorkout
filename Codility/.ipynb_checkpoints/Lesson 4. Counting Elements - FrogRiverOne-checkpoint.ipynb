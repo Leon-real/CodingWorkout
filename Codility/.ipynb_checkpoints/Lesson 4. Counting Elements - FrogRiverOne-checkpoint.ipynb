{
 "cells": [
  {
   "cell_type": "markdown",
   "id": "029a8374",
   "metadata": {},
   "source": [
    "A small frog wants to get to the other side of a river. The frog is initially located on one bank of the river (position 0) and wants to get to the opposite bank (position X+1). Leaves fall from a tree onto the surface of the river.\n",
    "\n",
    "You are given an array A consisting of N integers representing the falling leaves. A[K] represents the position where one leaf falls at time K, measured in seconds.\n",
    "\n",
    "The goal is to find the earliest time when the frog can jump to the other side of the river. The frog can cross only when leaves appear at every position across the river from 1 to X (that is, we want to find the earliest moment when all the positions from 1 to X are covered by leaves). You may assume that the speed of the current in the river is negligibly small, i.e. the leaves do not change their positions once they fall in the river.\n",
    "\n",
    "For example, you are given integer X = 5 and array A such that:\n",
    "\n",
    "  A[0] = 1\n",
    "  A[1] = 3\n",
    "  A[2] = 1\n",
    "  A[3] = 4\n",
    "  A[4] = 2\n",
    "  A[5] = 3\n",
    "  A[6] = 5\n",
    "  A[7] = 4\n",
    "In second 6, a leaf falls into position 5. This is the earliest time when leaves appear in every position across the river.\n",
    "\n",
    "Write a function:\n",
    "\n",
    "def solution(X, A)\n",
    "\n",
    "that, given a non-empty array A consisting of N integers and integer X, returns the earliest time when the frog can jump to the other side of the river.\n",
    "\n",
    "If the frog is never able to jump to the other side of the river, the function should return −1.\n",
    "\n",
    "For example, given X = 5 and array A such that:\n",
    "\n",
    "  A[0] = 1\n",
    "  A[1] = 3\n",
    "  A[2] = 1\n",
    "  A[3] = 4\n",
    "  A[4] = 2\n",
    "  A[5] = 3\n",
    "  A[6] = 5\n",
    "  A[7] = 4\n",
    "the function should return 6, as explained above.\n",
    "\n",
    "Write an efficient algorithm for the following assumptions:\n",
    "\n",
    "N and X are integers within the range [1..100,000];\n",
    "each element of array A is an integer within the range [1..X]."
   ]
  },
  {
   "cell_type": "code",
   "execution_count": 72,
   "id": "f614e12a",
   "metadata": {},
   "outputs": [],
   "source": [
    "X = 5\n",
    "A = [1, 3, 1, 4, 2, 3, 5, 4]\n"
   ]
  },
  {
   "cell_type": "code",
   "execution_count": 83,
   "id": "666cd79d",
   "metadata": {},
   "outputs": [
    {
     "name": "stdout",
     "output_type": "stream",
     "text": [
      "[1, 2, 3, 4, 5]\n",
      "[2, 3, 4, 5]\n",
      "[2, 4, 5]\n",
      "[2, 5]\n",
      "[5]\n",
      "[]\n"
     ]
    }
   ],
   "source": [
    "def solution(X, A):\n",
    "    sec = -1\n",
    "    x_lists = [x for x in range(1,X+1)]\n",
    "    # print(x_lists)\n",
    "    for i in range(len(A)):\n",
    "        if len(x_lists)==0:\n",
    "            break\n",
    "        if A[i] in x_lists:\n",
    "            x_lists.remove(A[i])\n",
    "            # print(x_lists)\n",
    "        sec+=1\n",
    "\n",
    "    if len(x_lists)>0:\n",
    "        return -1\n",
    "    return sec\n",
    "\n",
    "# 이렇게 할 경우 시간복잡도가 높아진다."
   ]
  },
  {
   "cell_type": "code",
   "execution_count": null,
   "id": "40c5f124",
   "metadata": {},
   "outputs": [],
   "source": []
  },
  {
   "cell_type": "code",
   "execution_count": 84,
   "id": "eb29da93",
   "metadata": {},
   "outputs": [
    {
     "data": {
      "text/plain": [
       "6"
      ]
     },
     "execution_count": 84,
     "metadata": {},
     "output_type": "execute_result"
    }
   ],
   "source": [
    "sec"
   ]
  },
  {
   "cell_type": "code",
   "execution_count": null,
   "id": "9cb50b6f",
   "metadata": {},
   "outputs": [],
   "source": []
  },
  {
   "cell_type": "code",
   "execution_count": 61,
   "id": "e91c04e9",
   "metadata": {},
   "outputs": [],
   "source": [
    "def solution(X, A):\n",
    "    d = dict()\n",
    "    \n",
    "    for i in range(len(A)):\n",
    "        if A[i] not in d:\n",
    "            d[A[i]] =i\n",
    "    for i in range(1,X+1):\n",
    "        if i not in d:\n",
    "            return -1\n",
    "    return max(d.values())\n",
    "\n",
    "#이렇게 하면 완벽한 정답"
   ]
  },
  {
   "cell_type": "code",
   "execution_count": 66,
   "id": "f3cebe2b",
   "metadata": {},
   "outputs": [],
   "source": [
    "test = {\"0\":1, \"2\":3}"
   ]
  },
  {
   "cell_type": "code",
   "execution_count": 71,
   "id": "5e3475e5",
   "metadata": {},
   "outputs": [
    {
     "name": "stdout",
     "output_type": "stream",
     "text": [
      "1\n"
     ]
    }
   ],
   "source": [
    "if \"0\" in test:\n",
    "    print(1)"
   ]
  },
  {
   "cell_type": "code",
   "execution_count": null,
   "id": "a7da51d6",
   "metadata": {},
   "outputs": [],
   "source": []
  }
 ],
 "metadata": {
  "kernelspec": {
   "display_name": "Python 3 (ipykernel)",
   "language": "python",
   "name": "python3"
  },
  "language_info": {
   "codemirror_mode": {
    "name": "ipython",
    "version": 3
   },
   "file_extension": ".py",
   "mimetype": "text/x-python",
   "name": "python",
   "nbconvert_exporter": "python",
   "pygments_lexer": "ipython3",
   "version": "3.9.7"
  }
 },
 "nbformat": 4,
 "nbformat_minor": 5
}
