{
 "cells": [
  {
   "cell_type": "markdown",
   "id": "13b44e39",
   "metadata": {},
   "source": [
    "An array A consisting of N integers is given. The dominator of array A is the value that occurs in more than half of the elements of A.\n",
    "\n",
    "For example, consider array A such that\n",
    "\n",
    "     A[0] = 3    A[1] = 4    A[2] =  3\n",
    "     A[3] = 2    A[4] = 3    A[5] = -1\n",
    "     A[6] = 3    A[7] = 3\n",
    "The dominator of A is 3 because it occurs in 5 out of 8 elements of A (namely in those with indices 0, 2, 4, 6 and 7) and 5 is more than a half of 8.\n",
    "\n",
    "Write a function\n",
    "\n",
    "def solution(A)\n",
    "\n",
    "that, given an array A consisting of N integers, returns index of any element of array A in which the dominator of A occurs. The function should return −1 if array A does not have a dominator.\n",
    "\n",
    "For example, given array A such that\n",
    "\n",
    "     A[0] = 3    A[1] = 4    A[2] =  3\n",
    "     A[3] = 2    A[4] = 3    A[5] = -1\n",
    "     A[6] = 3    A[7] = 3\n",
    "the function may return 0, 2, 4, 6 or 7, as explained above.\n",
    "\n",
    "Write an efficient algorithm for the following assumptions:\n",
    "\n",
    "- N is an integer within the range [0..100,000];\n",
    "- each element of array A is an integer within the range [−2,147,483,648..2,147,483,647]."
   ]
  },
  {
   "cell_type": "code",
   "execution_count": 1,
   "id": "2c84014c",
   "metadata": {},
   "outputs": [],
   "source": [
    "A = [3, 4, 3, 2, 3, -1, 3, 3]"
   ]
  },
  {
   "cell_type": "code",
   "execution_count": 7,
   "id": "274ac66f",
   "metadata": {},
   "outputs": [
    {
     "name": "stdout",
     "output_type": "stream",
     "text": [
      "[3, 4, 3, 2, 3, -1, 3, 3]\n",
      "{3: 5, 4: 1, 2: 1, -1: 1}\n"
     ]
    }
   ],
   "source": [
    "print(A)\n",
    "\n",
    "dic={}\n",
    "for i in A:\n",
    "    if i in dic.keys():\n",
    "        dic[i] +=1\n",
    "    else:\n",
    "        dic[i] = 1\n",
    "print(dic)"
   ]
  },
  {
   "cell_type": "code",
   "execution_count": 13,
   "id": "9685d0a5",
   "metadata": {},
   "outputs": [
    {
     "name": "stdout",
     "output_type": "stream",
     "text": [
      "{3: 2, 4: 1}\n",
      "{3: 3, 4: 1, 2: 1}\n",
      "{3: 4, 4: 1, 2: 1, -1: 1}\n",
      "{3: 5, 4: 1, 2: 1, -1: 1}\n",
      "7\n"
     ]
    }
   ],
   "source": [
    "dic={}\n",
    "for i in range(len(A)):\n",
    "    if A[i] in dic.keys():\n",
    "        dic[A[i]] +=1\n",
    "        print(dic)\n",
    "        if dic[A[i]] > len(A)//2:\n",
    "            print(i)\n",
    "    else:\n",
    "        dic[A[i]] = 1"
   ]
  },
  {
   "cell_type": "markdown",
   "id": "f9f8517f",
   "metadata": {},
   "source": [
    "# 1번째 Solution\n",
    "\n",
    "- Total Score 91%\n",
    "\n",
    "- extreme_empty_and_sigle_item : Fail"
   ]
  },
  {
   "cell_type": "code",
   "execution_count": 15,
   "id": "0f41f0a1",
   "metadata": {},
   "outputs": [],
   "source": [
    "def solution(A):\n",
    "    dic={}\n",
    "    for i in range(len(A)):\n",
    "        if A[i] in dic.keys():\n",
    "            dic[A[i]] +=1\n",
    "            if dic[A[i]] > len(A)//2:\n",
    "                return i\n",
    "        else:\n",
    "            dic[A[i]] = 1\n",
    "    return -1"
   ]
  },
  {
   "cell_type": "markdown",
   "id": "32a010c0",
   "metadata": {},
   "source": [
    "# 2번째 Solution\n",
    "\n",
    "```\n",
    "    if len(A)>0 and len(A)<2:\n",
    "        return 0\n",
    "    elif len(A)<2:\n",
    "        return -1\n",
    "```\n",
    "\n",
    "맨 앞에 코드 추가."
   ]
  },
  {
   "cell_type": "code",
   "execution_count": 17,
   "id": "ff37c1af",
   "metadata": {},
   "outputs": [],
   "source": [
    "def solution(A):\n",
    "\n",
    "    if len(A)>0 and len(A)<2:\n",
    "        return 0\n",
    "    elif len(A)<2:\n",
    "        return -1\n",
    "    dic={}\n",
    "    for i in range(len(A)):\n",
    "        if A[i] in dic.keys():\n",
    "            dic[A[i]] +=1\n",
    "            if dic[A[i]] > len(A)//2:\n",
    "                return i\n",
    "        else:\n",
    "            dic[A[i]] = 1\n",
    "    return -1"
   ]
  },
  {
   "cell_type": "code",
   "execution_count": null,
   "id": "49fabeee",
   "metadata": {},
   "outputs": [],
   "source": []
  }
 ],
 "metadata": {
  "kernelspec": {
   "display_name": "Python 3 (ipykernel)",
   "language": "python",
   "name": "python3"
  },
  "language_info": {
   "codemirror_mode": {
    "name": "ipython",
    "version": 3
   },
   "file_extension": ".py",
   "mimetype": "text/x-python",
   "name": "python",
   "nbconvert_exporter": "python",
   "pygments_lexer": "ipython3",
   "version": "3.9.7"
  }
 },
 "nbformat": 4,
 "nbformat_minor": 5
}
