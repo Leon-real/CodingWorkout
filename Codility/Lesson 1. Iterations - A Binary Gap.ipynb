{
 "cells": [
  {
   "cell_type": "markdown",
   "id": "50d0d449",
   "metadata": {},
   "source": [
    "A binary gap within a positive integer N is any maximal sequence of consecutive zeros that is surrounded by ones at both ends in the binary representation of N.\n",
    "\n",
    "For example, number 9 has binary representation 1001 and contains a binary gap of length 2. The number 529 has binary representation 1000010001 and contains two binary gaps: one of length 4 and one of length 3. The number 20 has binary representation 10100 and contains one binary gap of length 1. The number 15 has binary representation 1111 and has no binary gaps. The number 32 has binary representation 100000 and has no binary gaps.\n",
    "\n",
    "Write a function:\n",
    "\n",
    "def solution(N)\n",
    "\n",
    "that, given a positive integer N, returns the length of its longest binary gap. The function should return 0 if N doesn't contain a binary gap.\n",
    "\n",
    "For example, given N = 1041 the function should return 5, because N has binary representation 10000010001 and so its longest binary gap is of length 5. Given N = 32 the function should return 0, because N has binary representation '100000' and thus no binary gaps.\n",
    "\n",
    "Write an efficient algorithm for the following assumptions:\n",
    "\n",
    "N is an integer within the range [1..2,147,483,647].\n",
    "Copyright 2009–2022 by Codility Limited. All Rights Reserved. Unauthorized copying, publication or disclosure prohibited."
   ]
  },
  {
   "cell_type": "code",
   "execution_count": 45,
   "id": "b0e84d87",
   "metadata": {},
   "outputs": [],
   "source": []
  },
  {
   "cell_type": "code",
   "execution_count": 80,
   "id": "af42ee59",
   "metadata": {},
   "outputs": [],
   "source": [
    "N = 32\n",
    "\n",
    "bi = \"\"\n",
    "while True:\n",
    "    res = N%2\n",
    "    if res ==0:\n",
    "        bi += '0'\n",
    "    else:\n",
    "        bi += \"1\"\n",
    "    N = N//2\n",
    "    if N==0:\n",
    "        break\n",
    "        \n",
    "start_ = False\n",
    "end_ = False\n",
    "cnt = 0\n",
    "lst_cnt = list()\n",
    "\n",
    "for b in bi[::-1]:\n",
    "    if start_ == False and int(b) == 1:\n",
    "        start_ = True\n",
    "    elif start_ == True and end_==False and int(b)==0:\n",
    "        cnt+=1\n",
    "    elif end_ == False and start_== True and int(b)==1:\n",
    "        end_=True\n",
    "\n",
    "    if end_ == True and start_ == True:\n",
    "        lst_cnt.append(cnt)\n",
    "        cnt= 0\n",
    "        end_ = False\n",
    "        start_= True\n",
    "if len(lst_cnt)==0:\n",
    "    return 0\n",
    "else:\n",
    "    return max(lst_cnt)"
   ]
  },
  {
   "cell_type": "code",
   "execution_count": 81,
   "id": "86db773d",
   "metadata": {},
   "outputs": [
    {
     "ename": "ValueError",
     "evalue": "max() arg is an empty sequence",
     "output_type": "error",
     "traceback": [
      "\u001b[1;31m---------------------------------------------------------------------------\u001b[0m",
      "\u001b[1;31mValueError\u001b[0m                                Traceback (most recent call last)",
      "\u001b[1;32m~\\AppData\\Local\\Temp/ipykernel_8764/3745620730.py\u001b[0m in \u001b[0;36m<module>\u001b[1;34m\u001b[0m\n\u001b[1;32m----> 1\u001b[1;33m \u001b[0mmax\u001b[0m\u001b[1;33m(\u001b[0m\u001b[0mlst_cnt\u001b[0m\u001b[1;33m)\u001b[0m\u001b[1;33m\u001b[0m\u001b[1;33m\u001b[0m\u001b[0m\n\u001b[0m",
      "\u001b[1;31mValueError\u001b[0m: max() arg is an empty sequence"
     ]
    }
   ],
   "source": []
  },
  {
   "cell_type": "code",
   "execution_count": 85,
   "id": "4a6a39bc",
   "metadata": {},
   "outputs": [
    {
     "name": "stdout",
     "output_type": "stream",
     "text": [
      "3\n"
     ]
    }
   ],
   "source": []
  },
  {
   "cell_type": "code",
   "execution_count": 84,
   "id": "95b86498",
   "metadata": {},
   "outputs": [
    {
     "data": {
      "text/plain": [
       "[]"
      ]
     },
     "execution_count": 84,
     "metadata": {},
     "output_type": "execute_result"
    }
   ],
   "source": [
    "lst_cnt"
   ]
  },
  {
   "cell_type": "code",
   "execution_count": null,
   "id": "e8db9e69",
   "metadata": {},
   "outputs": [],
   "source": []
  }
 ],
 "metadata": {
  "kernelspec": {
   "display_name": "Python 3 (ipykernel)",
   "language": "python",
   "name": "python3"
  },
  "language_info": {
   "codemirror_mode": {
    "name": "ipython",
    "version": 3
   },
   "file_extension": ".py",
   "mimetype": "text/x-python",
   "name": "python",
   "nbconvert_exporter": "python",
   "pygments_lexer": "ipython3",
   "version": "3.9.7"
  }
 },
 "nbformat": 4,
 "nbformat_minor": 5
}
