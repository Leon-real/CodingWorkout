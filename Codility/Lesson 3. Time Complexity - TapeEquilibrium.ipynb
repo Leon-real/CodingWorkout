{
 "cells": [
  {
   "cell_type": "markdown",
   "id": "6e00cda1",
   "metadata": {},
   "source": [
    "A non-empty array A consisting of N integers is given. Array A represents numbers on a tape.\n",
    "\n",
    "Any integer P, such that 0 < P < N, splits this tape into two non-empty parts: A[0], A[1], ..., A[P − 1] and A[P], A[P + 1], ..., A[N − 1].\n",
    "\n",
    "The difference between the two parts is the value of: |(A[0] + A[1] + ... + A[P − 1]) − (A[P] + A[P + 1] + ... + A[N − 1])|\n",
    "\n",
    "In other words, it is the absolute difference between the sum of the first part and the sum of the second part.\n",
    "\n",
    "For example, consider array A such that:\n",
    "\n",
    "  A[0] = 3\n",
    "  A[1] = 1\n",
    "  A[2] = 2\n",
    "  A[3] = 4\n",
    "  A[4] = 3\n",
    "We can split this tape in four places:\n",
    "\n",
    "P = 1, difference = |3 − 10| = 7\n",
    "P = 2, difference = |4 − 9| = 5\n",
    "P = 3, difference = |6 − 7| = 1\n",
    "P = 4, difference = |10 − 3| = 7\n",
    "Write a function:\n",
    "\n",
    "def solution(A)\n",
    "\n",
    "that, given a non-empty array A of N integers, returns the minimal difference that can be achieved.\n",
    "\n",
    "For example, given:\n",
    "\n",
    "  A[0] = 3\n",
    "  A[1] = 1\n",
    "  A[2] = 2\n",
    "  A[3] = 4\n",
    "  A[4] = 3\n",
    "the function should return 1, as explained above.\n",
    "\n",
    "Write an efficient algorithm for the following assumptions:\n",
    "\n",
    "N is an integer within the range [2..100,000];\n",
    "each element of array A is an integer within the range [−1,000..1,000]."
   ]
  },
  {
   "cell_type": "code",
   "execution_count": 1,
   "id": "86c2646b",
   "metadata": {},
   "outputs": [],
   "source": [
    "A = [3, 1, 2, 4, 3]"
   ]
  },
  {
   "cell_type": "code",
   "execution_count": 8,
   "id": "c15f55bd",
   "metadata": {},
   "outputs": [],
   "source": [
    "def solution(A):\n",
    "    \n",
    "    # P의 값에 따라 구분이 나뉘어진다.\n",
    "    # 나뉜 값을 두부분으로 나눠 구간 별 합을 구하고\n",
    "    # 두구간 합의 차의 절대값이 가장 큰 P값 구하기(P값이 중복일 경우 작은 값으로)\n",
    "\n",
    "    _sum = 0\n",
    "    p = []\n",
    "    for i in range(1, len(A)):\n",
    "        if abs(sum(A[:i])-sum(A[i:])) >= _sum:\n",
    "            _sum = abs(sum(A[:i])-sum(A[i:]))\n",
    "            p.append(i)\n",
    "    return p[0]\n",
    "\n",
    "# list slice 후 sum을 통해 합계를 구하는 부분으 O(N^@)의 시간 복잡도를 가진다."
   ]
  },
  {
   "cell_type": "code",
   "execution_count": null,
   "id": "780a0e90",
   "metadata": {},
   "outputs": [],
   "source": []
  },
  {
   "cell_type": "code",
   "execution_count": 14,
   "id": "2e2a2165",
   "metadata": {},
   "outputs": [],
   "source": [
    "def solution(A):\n",
    "    \n",
    "    # P의 값에 따라 구분이 나뉘어진다.\n",
    "    # 나뉜 값을 두부분으로 나눠 구간 별 합을 구하고\n",
    "    # 두구간 합의 차의 절대값이 가장 큰 P값 구하기(P값이 중복일 경우 작은 값으로)\n",
    "\n",
    "    dif = float('inf')\n",
    "    first = 0\n",
    "    second = sum(A)\n",
    "    \n",
    "    \n",
    "    for p in range(len(A)-1):\n",
    "        first += A[p]\n",
    "        second -= A[p]\n",
    "        \n",
    "    return p[0]"
   ]
  },
  {
   "cell_type": "code",
   "execution_count": 13,
   "id": "8d695283",
   "metadata": {},
   "outputs": [
    {
     "data": {
      "text/plain": [
       "range(0, 5)"
      ]
     },
     "execution_count": 13,
     "metadata": {},
     "output_type": "execute_result"
    }
   ],
   "source": [
    "range(len(A))"
   ]
  },
  {
   "cell_type": "code",
   "execution_count": 21,
   "id": "3e5ae7de",
   "metadata": {},
   "outputs": [
    {
     "name": "stdout",
     "output_type": "stream",
     "text": [
      "7\n",
      "5\n",
      "1\n",
      "7\n"
     ]
    }
   ],
   "source": [
    "# you can write to stdout for debugging purposes, e.g.\n",
    "# print(\"this is a debug message\")\n",
    "\n",
    "def solution(A):\n",
    "    dif = float('inf')\n",
    "    first = 0\n",
    "    second = sum(A)\n",
    "\n",
    "\n",
    "    for p in range(len(A)-1):\n",
    "        first += A[p]\n",
    "        second -= A[p]\n",
    "        dif = min(dif, abs(first-second))\n",
    "\n",
    "    return dif"
   ]
  },
  {
   "cell_type": "code",
   "execution_count": 19,
   "id": "8f5c6a73",
   "metadata": {},
   "outputs": [
    {
     "data": {
      "text/plain": [
       "1"
      ]
     },
     "execution_count": 19,
     "metadata": {},
     "output_type": "execute_result"
    }
   ],
   "source": [
    "dif"
   ]
  },
  {
   "cell_type": "code",
   "execution_count": 20,
   "id": "5f795098",
   "metadata": {},
   "outputs": [
    {
     "data": {
      "text/plain": [
       "1"
      ]
     },
     "execution_count": 20,
     "metadata": {},
     "output_type": "execute_result"
    }
   ],
   "source": [
    "min(1,2)"
   ]
  },
  {
   "cell_type": "code",
   "execution_count": null,
   "id": "7a6c8013",
   "metadata": {},
   "outputs": [],
   "source": []
  }
 ],
 "metadata": {
  "kernelspec": {
   "display_name": "Python 3 (ipykernel)",
   "language": "python",
   "name": "python3"
  },
  "language_info": {
   "codemirror_mode": {
    "name": "ipython",
    "version": 3
   },
   "file_extension": ".py",
   "mimetype": "text/x-python",
   "name": "python",
   "nbconvert_exporter": "python",
   "pygments_lexer": "ipython3",
   "version": "3.9.7"
  }
 },
 "nbformat": 4,
 "nbformat_minor": 5
}
