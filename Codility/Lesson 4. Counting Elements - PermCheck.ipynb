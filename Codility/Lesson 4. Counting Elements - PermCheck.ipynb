{
 "cells": [
  {
   "cell_type": "markdown",
   "id": "6cbf7558",
   "metadata": {},
   "source": [
    "A non-empty array A consisting of N integers is given.\n",
    "\n",
    "A permutation is a sequence containing each element from 1 to N once, and only once.\n",
    "\n",
    "For example, array A such that:\n",
    "\n",
    "    A[0] = 4\n",
    "    A[1] = 1\n",
    "    A[2] = 3\n",
    "    A[3] = 2\n",
    "is a permutation, but array A such that:\n",
    "\n",
    "    A[0] = 4\n",
    "    A[1] = 1\n",
    "    A[2] = 3\n",
    "is not a permutation, because value 2 is missing.\n",
    "\n",
    "The goal is to check whether array A is a permutation.\n",
    "\n",
    "Write a function:\n",
    "\n",
    "def solution(A)\n",
    "\n",
    "that, given an array A, returns 1 if array A is a permutation and 0 if it is not.\n",
    "\n",
    "For example, given array A such that:\n",
    "\n",
    "    A[0] = 4\n",
    "    A[1] = 1\n",
    "    A[2] = 3\n",
    "    A[3] = 2\n",
    "the function should return 1.\n",
    "\n",
    "Given array A such that:\n",
    "\n",
    "    A[0] = 4\n",
    "    A[1] = 1\n",
    "    A[2] = 3\n",
    "the function should return 0.\n",
    "\n",
    "Write an efficient algorithm for the following assumptions:\n",
    "\n",
    "N is an integer within the range [1..100,000];\n",
    "each element of array A is an integer within the range [1..1,000,000,000]."
   ]
  },
  {
   "cell_type": "code",
   "execution_count": null,
   "id": "1534c346",
   "metadata": {},
   "outputs": [],
   "source": [
    "# you can write to stdout for debugging purposes, e.g.\n",
    "# print(\"this is a debug message\")\n",
    "\n",
    "def solution(A):\n",
    "    # write your code in Python 3.8.10\n",
    "    if len(set(A)) != len(A):\n",
    "        return 0\n",
    "    if len(A) != max(sorted(A)):\n",
    "        return 0\n",
    "    else:\n",
    "        return 1"
   ]
  }
 ],
 "metadata": {
  "kernelspec": {
   "display_name": "Python 3 (ipykernel)",
   "language": "python",
   "name": "python3"
  },
  "language_info": {
   "codemirror_mode": {
    "name": "ipython",
    "version": 3
   },
   "file_extension": ".py",
   "mimetype": "text/x-python",
   "name": "python",
   "nbconvert_exporter": "python",
   "pygments_lexer": "ipython3",
   "version": "3.9.7"
  }
 },
 "nbformat": 4,
 "nbformat_minor": 5
}
