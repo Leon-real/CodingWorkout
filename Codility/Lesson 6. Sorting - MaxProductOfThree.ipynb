{
 "cells": [
  {
   "cell_type": "markdown",
   "id": "2fb1dbe6",
   "metadata": {},
   "source": [
    "A non-empty array A consisting of N integers is given. The product of triplet (P, Q, R) equates to A[P] * A[Q] * A[R] (0 ≤ P < Q < R < N).\n",
    "\n",
    "For example, array A such that:\n",
    "\n",
    "  A[0] = -3\n",
    "  A[1] = 1\n",
    "  A[2] = 2\n",
    "  A[3] = -2\n",
    "  A[4] = 5\n",
    "  A[5] = 6\n",
    "contains the following example triplets:\n",
    "\n",
    "(0, 1, 2), product is −3 * 1 * 2 = −6\n",
    "(1, 2, 4), product is 1 * 2 * 5 = 10\n",
    "(2, 4, 5), product is 2 * 5 * 6 = 60\n",
    "Your goal is to find the maximal product of any triplet.\n",
    "\n",
    "Write a function:\n",
    "\n",
    "def solution(A)\n",
    "\n",
    "that, given a non-empty array A, returns the value of the maximal product of any triplet.\n",
    "\n",
    "For example, given array A such that:\n",
    "\n",
    "  A[0] = -3\n",
    "  A[1] = 1\n",
    "  A[2] = 2\n",
    "  A[3] = -2\n",
    "  A[4] = 5\n",
    "  A[5] = 6\n",
    "the function should return 60, as the product of triplet (2, 4, 5) is maximal.\n",
    "\n",
    "Write an efficient algorithm for the following assumptions:\n",
    "\n",
    "N is an integer within the range [3..100,000];\n",
    "each element of array A is an integer within the range [−1,000..1,000]."
   ]
  },
  {
   "cell_type": "code",
   "execution_count": 1,
   "id": "5c13f654",
   "metadata": {},
   "outputs": [],
   "source": [
    "def solution(A):\n",
    "    # write your code in Python 3.8.10\n",
    "    A.sort()\n",
    "    return max(A[0]*A[1]*A[-1], A[-3]*A[-2]*A[-1])\n"
   ]
  },
  {
   "cell_type": "markdown",
   "id": "c466db69",
   "metadata": {},
   "source": [
    "두번째 접근(통과한 코드)\n",
    "기본적으로 세 수를 곱할때 음수와 양수의 조합은 다음과 같다. 여기서 무시한다는건 어차피 음수는 양수보다 클 수 없기 때문에 이 문제를 풀 때 고려하지 않아도 되는 경우라는 의미다.\n",
    "\n",
    "양수 * 양수 * 양수 =  양수\n",
    "음수 * 양수 * 양수 =  음수 (무시)\n",
    "음수 * 음수 * 양수 =  양수\n",
    "음수 * 음수 * 음수 =  음수 (무시)\n",
    " \n",
    "\n",
    "또 우리에게 주어질 수 있는 배열의 조합은 다음과 같다. (회색 글씨는 정렬했을때)\n",
    "\n",
    "모두 음수로 구성된 배열 (맨 뒤 세 수를 곱한 값이 무조건 최대)\n",
    "모두 양수로 구성된 배열 (맨 뒤 세 수를 곱한 값이 무조건 최대)\n",
    "음수와 양수가 뒤섞인 배열 (위의 양수, 음수 조합을 고려해야 함)"
   ]
  },
  {
   "cell_type": "code",
   "execution_count": null,
   "id": "88c86433",
   "metadata": {},
   "outputs": [],
   "source": []
  }
 ],
 "metadata": {
  "kernelspec": {
   "display_name": "Python 3 (ipykernel)",
   "language": "python",
   "name": "python3"
  },
  "language_info": {
   "codemirror_mode": {
    "name": "ipython",
    "version": 3
   },
   "file_extension": ".py",
   "mimetype": "text/x-python",
   "name": "python",
   "nbconvert_exporter": "python",
   "pygments_lexer": "ipython3",
   "version": "3.9.7"
  }
 },
 "nbformat": 4,
 "nbformat_minor": 5
}
