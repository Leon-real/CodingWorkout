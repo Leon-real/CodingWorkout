{
 "cells": [
  {
   "cell_type": "markdown",
   "id": "579678b8",
   "metadata": {},
   "source": [
    "A non-empty array A consisting of N integers is given.\n",
    "\n",
    "The leader of this array is the value that occurs in more than half of the elements of A.\n",
    "\n",
    "An equi leader is an index S such that 0 ≤ S < N − 1 and two sequences A[0], A[1], ..., A[S] and A[S + 1], A[S + 2], ..., A[N − 1] have leaders of the same value.\n",
    "\n",
    "For example, given array A such that:\n",
    "\n",
    "    A[0] = 4\n",
    "    A[1] = 3\n",
    "    A[2] = 4\n",
    "    A[3] = 4\n",
    "    A[4] = 4\n",
    "    A[5] = 2\n",
    "we can find two equi leaders:\n",
    "\n",
    "0, because sequences: (4) and (3, 4, 4, 4, 2) have the same leader, whose value is 4.\n",
    "2, because sequences: (4, 3, 4) and (4, 4, 2) have the same leader, whose value is 4.\n",
    "The goal is to count the number of equi leaders.\n",
    "\n",
    "Write a function:\n",
    "\n",
    "def solution(A)\n",
    "\n",
    "that, given a non-empty array A consisting of N integers, returns the number of equi leaders.\n",
    "\n",
    "For example, given:\n",
    "\n",
    "    A[0] = 4\n",
    "    A[1] = 3\n",
    "    A[2] = 4\n",
    "    A[3] = 4\n",
    "    A[4] = 4\n",
    "    A[5] = 2\n",
    "the function should return 2, as explained above.\n",
    "\n",
    "Write an efficient algorithm for the following assumptions:\n",
    "\n",
    "N is an integer within the range [1..100,000];\n",
    "each element of array A is an integer within the range [−1,000,000,000..1,000,000,000]."
   ]
  },
  {
   "cell_type": "code",
   "execution_count": 1,
   "id": "d36d2c18",
   "metadata": {},
   "outputs": [],
   "source": [
    "A = [4, 3, 4, 4, 4, 2]"
   ]
  },
  {
   "cell_type": "code",
   "execution_count": null,
   "id": "e15d6027",
   "metadata": {},
   "outputs": [],
   "source": []
  },
  {
   "cell_type": "code",
   "execution_count": null,
   "id": "53c2f3d0",
   "metadata": {},
   "outputs": [],
   "source": []
  },
  {
   "cell_type": "code",
   "execution_count": 27,
   "id": "d1bf4ae9",
   "metadata": {},
   "outputs": [],
   "source": [
    "def solution(A):\n",
    "    # write your code in Python 3.6\n",
    "    \n",
    "    right_map = {}\n",
    "    left_map = {}\n",
    "    \n",
    "    for i in A:\n",
    "        try:\n",
    "            right_map[i] += 1\n",
    "        except:\n",
    "            right_map[i] = 1\n",
    "    \n",
    "    count = 0\n",
    "    left_leader = 0\n",
    "    left_length = 0\n",
    "    right_length = len(A)\n",
    "    left_leader_count = 0\n",
    "   \n",
    "    for i in range(len(A)):\n",
    "        right_map[A[i]] -= 1\n",
    "        right_length -= 1\n",
    "        \n",
    "        try:\n",
    "            left_map[A[i]] += 1\n",
    "        except:\n",
    "            left_map[A[i]] = 1\n",
    "            \n",
    "        left_length += 1\n",
    "        \n",
    "        # get left leader\n",
    "        if left_map[A[i]] > left_leader_count:\n",
    "            left_leader = A[i]\n",
    "            left_leader_count = left_map[A[i]]\n",
    "        \n",
    "        # get equi leader\n",
    "        if right_map[left_leader] > right_length//2 and left_leader_count > left_length//2: \n",
    "            count += 1\n",
    "        \n",
    "    \n",
    "    return count"
   ]
  },
  {
   "cell_type": "code",
   "execution_count": 28,
   "id": "e7e479d2",
   "metadata": {},
   "outputs": [
    {
     "data": {
      "text/plain": [
       "{4: 4, 3: 1, 2: 1}"
      ]
     },
     "execution_count": 28,
     "metadata": {},
     "output_type": "execute_result"
    }
   ],
   "source": [
    "right_map"
   ]
  },
  {
   "cell_type": "code",
   "execution_count": 29,
   "id": "9c3b64a3",
   "metadata": {},
   "outputs": [
    {
     "data": {
      "text/plain": [
       "{}"
      ]
     },
     "execution_count": 29,
     "metadata": {},
     "output_type": "execute_result"
    }
   ],
   "source": [
    "left_map"
   ]
  },
  {
   "cell_type": "code",
   "execution_count": null,
   "id": "6b7634d3",
   "metadata": {},
   "outputs": [],
   "source": []
  },
  {
   "cell_type": "code",
   "execution_count": null,
   "id": "6c5bf99e",
   "metadata": {},
   "outputs": [],
   "source": []
  },
  {
   "cell_type": "code",
   "execution_count": null,
   "id": "0c1179d5",
   "metadata": {},
   "outputs": [],
   "source": []
  }
 ],
 "metadata": {
  "kernelspec": {
   "display_name": "Python 3 (ipykernel)",
   "language": "python",
   "name": "python3"
  },
  "language_info": {
   "codemirror_mode": {
    "name": "ipython",
    "version": 3
   },
   "file_extension": ".py",
   "mimetype": "text/x-python",
   "name": "python",
   "nbconvert_exporter": "python",
   "pygments_lexer": "ipython3",
   "version": "3.9.7"
  }
 },
 "nbformat": 4,
 "nbformat_minor": 5
}
