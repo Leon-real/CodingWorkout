{
 "cells": [
  {
   "cell_type": "markdown",
   "id": "0ff1948f",
   "metadata": {},
   "source": [
    "A non-empty array A consisting of N integers is given. A pair of integers (P, Q), such that 0 ≤ P ≤ Q < N, is called a slice of array A. The sum of a slice (P, Q) is the total of A[P] + A[P+1] + ... + A[Q].\n",
    "\n",
    "Write a function:\n",
    "\n",
    "    def solution(A)\n",
    "\n",
    "that, given an array A consisting of N integers, returns the maximum sum of any slice of A.\n",
    "\n",
    "For example, given array A such that:\n",
    "\n",
    "    A[0] = 3  A[1] = 2  A[2] = -6\n",
    "    A[3] = 4  A[4] = 0\n",
    "the function should return 5 because:\n",
    "\n",
    "    (3, 4) is a slice of A that has sum 4,\n",
    "    (2, 2) is a slice of A that has sum −6,\n",
    "    (0, 1) is a slice of A that has sum 5,\n",
    "no other slice of A has sum greater than (0, 1).\n",
    "Write an efficient algorithm for the following assumptions:\n",
    "\n",
    "- N is an integer within the range [1..1,000,000];\n",
    "- each element of array A is an integer within the range [−1,000,000..1,000,000];\n",
    "- the result will be an integer within the range [−2,147,483,648..2,147,483,647]."
   ]
  },
  {
   "cell_type": "code",
   "execution_count": 4,
   "id": "3db5a4df",
   "metadata": {},
   "outputs": [],
   "source": [
    "A = [3, 2, -6, 4, 0]"
   ]
  },
  {
   "cell_type": "markdown",
   "id": "f8d0a5dc",
   "metadata": {},
   "source": [
    "# 1번째 Solution\n",
    "\n",
    "- Task Score 30%\n",
    "- Correctness 37%\n",
    "- Performance 20%\n",
    "\n",
    "---\n",
    "Time Error and Wrong Answer"
   ]
  },
  {
   "cell_type": "code",
   "execution_count": 16,
   "id": "fe00b1e1",
   "metadata": {},
   "outputs": [
    {
     "data": {
      "text/plain": [
       "5"
      ]
     },
     "execution_count": 16,
     "metadata": {},
     "output_type": "execute_result"
    }
   ],
   "source": [
    "def solution(A):\n",
    "    \n",
    "    if len(A)<2:\n",
    "        return A[0]\n",
    "\n",
    "    temp_sum = 0\n",
    "    for i in range(len(A)):\n",
    "        for j in range(i, len(A)):\n",
    "            if sum(A[i:j]) > temp_sum:\n",
    "                temp_sum = sum(A[i:j])\n",
    "\n",
    "    return temp_sum\n",
    "\n",
    "solution(A)"
   ]
  },
  {
   "cell_type": "markdown",
   "id": "2f1457b0",
   "metadata": {},
   "source": [
    "# 2 번째 Solution"
   ]
  },
  {
   "cell_type": "code",
   "execution_count": 20,
   "id": "933bbb0e",
   "metadata": {},
   "outputs": [
    {
     "data": {
      "text/plain": [
       "5"
      ]
     },
     "execution_count": 20,
     "metadata": {},
     "output_type": "execute_result"
    }
   ],
   "source": [
    "def solution(A):\n",
    "    temp_sum = -100000000000\n",
    "    temp = 0\n",
    "\n",
    "    for i in A:\n",
    "        temp_sum = max(temp_sum, temp+i) # 두 값중 큰 값을 최대값으로 갱신\n",
    "        temp = max(0, temp+i) # value 값중 큰 값으로 갱신\n",
    "    return temp_sum\n",
    "\n",
    "solution(A)"
   ]
  },
  {
   "cell_type": "code",
   "execution_count": null,
   "id": "61c7e161",
   "metadata": {},
   "outputs": [],
   "source": []
  }
 ],
 "metadata": {
  "kernelspec": {
   "display_name": "Python 3 (ipykernel)",
   "language": "python",
   "name": "python3"
  },
  "language_info": {
   "codemirror_mode": {
    "name": "ipython",
    "version": 3
   },
   "file_extension": ".py",
   "mimetype": "text/x-python",
   "name": "python",
   "nbconvert_exporter": "python",
   "pygments_lexer": "ipython3",
   "version": "3.9.7"
  }
 },
 "nbformat": 4,
 "nbformat_minor": 5
}
