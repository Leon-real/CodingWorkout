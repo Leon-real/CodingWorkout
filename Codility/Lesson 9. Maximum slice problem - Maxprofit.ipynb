{
 "cells": [
  {
   "cell_type": "markdown",
   "id": "6b45e685",
   "metadata": {},
   "source": [
    "An array A consisting of N integers is given. It contains daily prices of a stock share for a period of N consecutive days. If a single share was bought on day P and sold on day Q, where 0 ≤ P ≤ Q < N, then the profit of such transaction is equal to A[Q] − A[P], provided that A[Q] ≥ A[P]. Otherwise, the transaction brings loss of A[P] − A[Q].\n",
    "\n",
    "For example, consider the following array A consisting of six elements such that:\n",
    "\n",
    "      A[0] = 23171\n",
    "      A[1] = 21011\n",
    "      A[2] = 21123\n",
    "      A[3] = 21366\n",
    "      A[4] = 21013\n",
    "      A[5] = 21367\n",
    "If a share was bought on day 0 and sold on day 2, a loss of 2048 would occur because A[2] − A[0] = 21123 − 23171 = −2048. If a share was bought on day 4 and sold on day 5, a profit of 354 would occur because A[5] − A[4] = 21367 − 21013 = 354. Maximum possible profit was 356. It would occur if a share was bought on day 1 and sold on day 5.\n",
    "\n",
    "Write a function,\n",
    "\n",
    "    def solution(A)\n",
    "\n",
    "that, given an array A consisting of N integers containing daily prices of a stock share for a period of N consecutive days, returns the maximum possible profit from one transaction during this period. The function should return 0 if it was impossible to gain any profit.\n",
    "\n",
    "For example, given array A consisting of six elements such that:\n",
    "\n",
    "      A[0] = 23171\n",
    "      A[1] = 21011\n",
    "      A[2] = 21123\n",
    "      A[3] = 21366\n",
    "      A[4] = 21013\n",
    "      A[5] = 21367\n",
    "the function should return 356, as explained above.\n",
    "\n",
    "Write an efficient algorithm for the following assumptions:\n",
    "\n",
    "- N is an integer within the range [0..400,000];\n",
    "- each element of array A is an integer within the range [0..200,000]."
   ]
  },
  {
   "cell_type": "markdown",
   "id": "9e59fb8b",
   "metadata": {},
   "source": [
    "# 1번째 Solution\n",
    "\n",
    "- Task Score : 44%\n",
    "- Correctness : 60%\n",
    "- Performance : 25%"
   ]
  },
  {
   "cell_type": "code",
   "execution_count": 3,
   "id": "13ca959e",
   "metadata": {},
   "outputs": [],
   "source": [
    "def solution(A):\n",
    "    # write your code in Python 3.8.10\n",
    "    price=[]\n",
    "    for i in range(len(A)):\n",
    "        # print(i)\n",
    "        for j in range(i+1,len(A)):\n",
    "            if A[j]-A[i]>0:\n",
    "                price.append(A[j]-A[i])\n",
    "    return max(price)"
   ]
  },
  {
   "cell_type": "markdown",
   "id": "1600c000",
   "metadata": {},
   "source": [
    "# 2번째 Solution\n",
    "\n",
    "- idea\n",
    "\n",
    "    굳이 각각의 값을 계산해줄 필요가 없다는 것을 깨달음\n",
    "    \n",
    "    즉, 가격차이는 최대화하고, 기준이되는 가격은 최소값으로 갱신해주면 되는 것"
   ]
  },
  {
   "cell_type": "code",
   "execution_count": 4,
   "id": "3b2790ca",
   "metadata": {},
   "outputs": [],
   "source": [
    "\n",
    "def solution(A):\n",
    "    if len(A) <2:\n",
    "        return 0\n",
    "\n",
    "    min_price = A[0]\n",
    "    m = 0\n",
    "\n",
    "    for a in A:\n",
    "        c = a - min_price\n",
    "        if m < c:\n",
    "            m=c\n",
    "        if min_price > a:\n",
    "            min_price = a\n",
    "\n",
    "    return m"
   ]
  },
  {
   "cell_type": "code",
   "execution_count": null,
   "id": "9f1e61ed",
   "metadata": {},
   "outputs": [],
   "source": []
  }
 ],
 "metadata": {
  "kernelspec": {
   "display_name": "Python 3 (ipykernel)",
   "language": "python",
   "name": "python3"
  },
  "language_info": {
   "codemirror_mode": {
    "name": "ipython",
    "version": 3
   },
   "file_extension": ".py",
   "mimetype": "text/x-python",
   "name": "python",
   "nbconvert_exporter": "python",
   "pygments_lexer": "ipython3",
   "version": "3.9.7"
  }
 },
 "nbformat": 4,
 "nbformat_minor": 5
}
